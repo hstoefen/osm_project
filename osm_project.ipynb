{
 "cells": [
  {
   "cell_type": "markdown",
   "metadata": {},
   "source": [
    "# Create SQlite DB\n",
    "create sqlite db using the example schema.sql\n",
    "\n",
    "```\n",
    "sqlite3 osm_project.db < schema.sql\n",
    "```\n",
    "Open data base\n",
    "```\n",
    "sqlite osm_project.db\n",
    "```"
   ]
  },
  {
   "cell_type": "markdown",
   "metadata": {},
   "source": [
    "Import previously created .csv files\n",
    "\n",
    "```\n",
    "sqlite> .mode csv\n",
    "sqlite> .import nodes.csv nodes\n",
    "sqlite> .import nodes_tags.csv nodes_tags\n",
    "sqlite> .import ways.csv ways\n",
    "sqlite> .import ways_nodes.csv ways_nodes\n",
    "sqlite> .import ways_tags.csv ways_tags\n",
    "```\n",
    "\n",
    "INSERT failed: datatype mismatch\n",
    "\n",
    "-> changed ```codecs.open(NODES_PATH, 'w')``` to ```codecs.open(NODES_PATH, 'wb')``` in function process map to force binary and suppress extra carriage return in .csv-file"
   ]
  },
  {
   "cell_type": "code",
   "execution_count": 1,
   "metadata": {},
   "outputs": [],
   "source": [
    "import sqlite3\n",
    "import pandas as pd\n",
    "\n",
    "# Fetch records from osm_project.db\n",
    "db = sqlite3.connect(\"osm_project.db\")\n",
    "c = db.cursor()"
   ]
  },
  {
   "cell_type": "markdown",
   "metadata": {},
   "source": [
    "check all tables"
   ]
  },
  {
   "cell_type": "code",
   "execution_count": 3,
   "metadata": {},
   "outputs": [
    {
     "name": "stdout",
     "output_type": "stream",
     "text": [
      "       id        lat       lon          user     uid  version  changeset  \\\n",
      "0  496065  54.772389  9.343453        simlox  795290        7   57804251   \n",
      "1  496066  54.772097  9.344723        simlox  795290        6   57804251   \n",
      "2  496067  54.771689  9.345011  amd64-online  579833        4   57255314   \n",
      "3  496068  54.771262  9.345849   Peilscheibe   35560        3    3486195   \n",
      "4  496069  54.771235  9.346165  amd64-online  579833        4   57255314   \n",
      "\n",
      "              timestamp  \n",
      "0  2018-04-04T13:44:12Z  \n",
      "1  2018-04-04T13:44:12Z  \n",
      "2  2018-03-16T22:44:50Z  \n",
      "3  2009-12-29T23:08:24Z  \n",
      "4  2018-03-16T22:44:50Z  \n"
     ]
    }
   ],
   "source": [
    "QUERY = \"SELECT * FROM nodes;\"\n",
    "c.execute(QUERY)\n",
    "rows = c.fetchall()\n",
    "  \n",
    "df = pd.DataFrame(rows, columns=['id','lat','lon','user','uid','version','changeset','timestamp'])\n",
    "print df.head()"
   ]
  },
  {
   "cell_type": "code",
   "execution_count": 4,
   "metadata": {},
   "outputs": [
    {
     "name": "stdout",
     "output_type": "stream",
     "text": [
      "       id                              key     value type\n",
      "0  496722             cid_58:tabcd_1:Class     Point  TMC\n",
      "1  496722         cid_58:tabcd_1:Direction  positive  TMC\n",
      "2  496722        cid_58:tabcd_1:LCLversion      9.00  TMC\n",
      "3  496722      cid_58:tabcd_1:LocationCode     44623  TMC\n",
      "4  496722  cid_58:tabcd_1:NextLocationCode     44624  TMC\n"
     ]
    }
   ],
   "source": [
    "QUERY = \"SELECT * FROM nodes_tags;\"\n",
    "c.execute(QUERY)\n",
    "rows = c.fetchall()\n",
    "  \n",
    "df = pd.DataFrame(rows, columns=['id','key','value','type'])\n",
    "print df.head()"
   ]
  },
  {
   "cell_type": "code",
   "execution_count": 5,
   "metadata": {
    "scrolled": true
   },
   "outputs": [
    {
     "name": "stdout",
     "output_type": "stream",
     "text": [
      "        id          user     uid version  changeset             timestamp\n",
      "0  2557562    Kent Friis  145774      20   18957966  2013-11-17T18:42:57Z\n",
      "1  2557564  Maarten Deen    9176      19   38933548  2016-04-27T20:32:00Z\n",
      "2  2862595       MKnight   39774      17   45913518  2017-02-08T11:25:24Z\n",
      "3  4006063        simlox  795290      18   57804251  2018-04-04T13:44:20Z\n",
      "4  4586893       MKnight   39774      15   45913518  2017-02-08T11:25:25Z\n"
     ]
    }
   ],
   "source": [
    "QUERY = \"SELECT * FROM ways;\"\n",
    "c.execute(QUERY)\n",
    "rows = c.fetchall()\n",
    "  \n",
    "df = pd.DataFrame(rows, columns=['id','user','uid','version','changeset','timestamp'])\n",
    "print df.head()"
   ]
  },
  {
   "cell_type": "code",
   "execution_count": 6,
   "metadata": {},
   "outputs": [
    {
     "name": "stdout",
     "output_type": "stream",
     "text": [
      "        id       key       value      type\n",
      "0  2557562      left       track  cycleway\n",
      "1  2557562   highway    tertiary  cycleway\n",
      "2  2557562      name  Padborgvej  cycleway\n",
      "3  2557562   surface     asphalt  cycleway\n",
      "4  2557564  cycleway        lane   regular\n"
     ]
    }
   ],
   "source": [
    "QUERY = \"SELECT * FROM ways_tags;\"\n",
    "c.execute(QUERY)\n",
    "rows = c.fetchall()\n",
    "  \n",
    "df = pd.DataFrame(rows, columns=['id','key','value','type'])\n",
    "print df.head()"
   ]
  },
  {
   "cell_type": "code",
   "execution_count": 7,
   "metadata": {},
   "outputs": [
    {
     "name": "stdout",
     "output_type": "stream",
     "text": [
      "        id    node_id  position\n",
      "0  2557562  441633170         0\n",
      "1  2557562   11307072         1\n",
      "2  2557562  420322536         2\n",
      "3  2557562  499421438         3\n",
      "4  2557562   11307073         4\n"
     ]
    }
   ],
   "source": [
    "QUERY = \"SELECT * FROM ways_nodes;\"\n",
    "c.execute(QUERY)\n",
    "rows = c.fetchall()\n",
    "  \n",
    "df = pd.DataFrame(rows, columns=['id','node_id','position'])\n",
    "print df.head()"
   ]
  },
  {
   "cell_type": "markdown",
   "metadata": {},
   "source": [
    "Determine, which users contributed most"
   ]
  },
  {
   "cell_type": "code",
   "execution_count": 8,
   "metadata": {},
   "outputs": [
    {
     "name": "stdout",
     "output_type": "stream",
     "text": [
      "             user   count\n",
      "0      Zartbitter  219739\n",
      "1   Vasco_da_Gama    8168\n",
      "2        Hubert87    4904\n",
      "3           Hjart    4097\n",
      "4      Kent Friis    2931\n",
      "5       SpaceCafe    2859\n",
      "6             xld    1925\n",
      "7        Markus59    1702\n",
      "8        Daniel S    1607\n",
      "9          AWSbot    1500\n",
      "10        JosClag    1325\n",
      "11     Mario Link    1270\n",
      "12         phobie    1264\n",
      "13        bjay999    1256\n",
      "14         Justus    1183\n",
      "15       Abella57    1173\n",
      "16        LennyFL    1171\n",
      "17         alfa91    1168\n",
      "18       OSM-Sven    1137\n",
      "19         SDFL78    1000\n"
     ]
    }
   ],
   "source": [
    "QUERY = \"SELECT user,count() FROM nodes GROUP BY user ORDER BY count() DESC;\"\n",
    "c.execute(QUERY)\n",
    "rows = c.fetchall()\n",
    "  \n",
    "df = pd.DataFrame(rows, columns=['user', 'count'])\n",
    "print df.head(20)"
   ]
  },
  {
   "cell_type": "markdown",
   "metadata": {},
   "source": [
    "determine all keys"
   ]
  },
  {
   "cell_type": "code",
   "execution_count": 10,
   "metadata": {},
   "outputs": [
    {
     "name": "stdout",
     "output_type": "stream",
     "text": [
      "                    key                            value\n",
      "180                note               Gebäude abgerissen\n",
      "181               notes             Weg geht noch weiter\n",
      "182          octane_100                              yes\n",
      "183          octane_102                              yes\n",
      "184           octane_91                               no\n",
      "185           octane_95                              yes\n",
      "186           octane_98                              yes\n",
      "187                odbl                            clean\n",
      "188              office                        newspaper\n",
      "189       official_name                Stille Liebe(Ost)\n",
      "190            old_name                      Schloßallee\n",
      "191             old_ref                             B 76\n",
      "192              oneway                              yes\n",
      "193       opening_hours  Mo-Fr 07:30-16:30; Sa,Su,PH off\n",
      "194            operator       Bundesrepublik Deutschland\n",
      "195             organic                             only\n",
      "196         orientation                           across\n",
      "197     output:electric                              yes\n",
      "198  output:electricity                             3 kW\n",
      "199    output:hot_water                              yes\n",
      "200               owner       Ingram Micro Services GmbH\n",
      "201              parent                               no\n",
      "202           park_ride                               no\n",
      "203             parking                          surface\n",
      "204                part                         elevator\n",
      "205        passage_type                              T01\n",
      "206     passenger_lines                                2\n",
      "207                path                         sidepath\n",
      "208             pattern                      herringbone\n",
      "209               phone                     +49 463 4356\n"
     ]
    }
   ],
   "source": [
    "QUERY = \"SELECT DISTINCT key,value FROM ways_tags GROUP BY key ORDER BY key;\"\n",
    "c.execute(QUERY)\n",
    "rows = c.fetchall()\n",
    "  \n",
    "df = pd.DataFrame(rows, columns=['key','value'])\n",
    "print df[180:210]"
   ]
  },
  {
   "cell_type": "markdown",
   "metadata": {},
   "source": [
    "determine the distribution of speed limits"
   ]
  },
  {
   "cell_type": "code",
   "execution_count": 11,
   "metadata": {},
   "outputs": [
    {
     "name": "stdout",
     "output_type": "stream",
     "text": [
      "        key     value  count\n",
      "0  maxspeed        30    567\n",
      "1  maxspeed        50    492\n",
      "2  maxspeed  DE:urban    113\n",
      "3  maxspeed      sign     85\n",
      "4  maxspeed       100     83\n"
     ]
    }
   ],
   "source": [
    "QUERY = \"SELECT key,value, count() FROM ways_tags WHERE key='maxspeed' GROUP BY value ORDER BY count() DESC;\"\n",
    "c.execute(QUERY)\n",
    "rows = c.fetchall()\n",
    "  \n",
    "df = pd.DataFrame(rows, columns=['key','value','count'])\n",
    "print df.head()"
   ]
  },
  {
   "cell_type": "code",
   "execution_count": 12,
   "metadata": {},
   "outputs": [],
   "source": [
    "db.close()"
   ]
  },
  {
   "cell_type": "code",
   "execution_count": null,
   "metadata": {},
   "outputs": [],
   "source": []
  }
 ],
 "metadata": {
  "kernelspec": {
   "display_name": "Python 2",
   "language": "python",
   "name": "python2"
  },
  "language_info": {
   "codemirror_mode": {
    "name": "ipython",
    "version": 2
   },
   "file_extension": ".py",
   "mimetype": "text/x-python",
   "name": "python",
   "nbconvert_exporter": "python",
   "pygments_lexer": "ipython2",
   "version": "2.7.14"
  },
  "toc": {
   "nav_menu": {},
   "number_sections": true,
   "sideBar": true,
   "skip_h1_title": false,
   "title_cell": "Table of Contents",
   "title_sidebar": "Contents",
   "toc_cell": false,
   "toc_position": {},
   "toc_section_display": true,
   "toc_window_display": false
  }
 },
 "nbformat": 4,
 "nbformat_minor": 2
}
